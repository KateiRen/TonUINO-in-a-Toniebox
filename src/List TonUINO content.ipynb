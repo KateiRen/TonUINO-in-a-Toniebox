{
 "cells": [
  {
   "cell_type": "markdown",
   "id": "extended-apartment",
   "metadata": {},
   "source": [
    "# List TonUINO content\n",
    "\n",
    "Scans trough folders and display mp3 tags of files found"
   ]
  },
  {
   "cell_type": "code",
   "execution_count": 8,
   "id": "unavailable-century",
   "metadata": {},
   "outputs": [],
   "source": [
    "# Definitionen und Imports\n",
    "import os\n",
    "import eyed3\n",
    "from ipywidgets import Button\n",
    "from tkinter import Tk, filedialog\n",
    "from IPython.display import clear_output, display\n",
    "\n",
    "mp3Path = \"F:\"\n",
    "\n",
    "def select_files(b):\n",
    "    global mp3Path\n",
    "    clear_output()\n",
    "    root = Tk()\n",
    "    root.withdraw() # Hide the main window.\n",
    "    root.call('wm', 'attributes', '.', '-topmost', True) # Raise the root to the top of all windows.\n",
    "    #b.files = filedialog.askopenfilename(multiple=True) # List of selected files will be set button's file attribute.\n",
    "    b.files = filedialog.askdirectory() \n",
    "    mp3Path = b.files\n",
    "\n",
    "\n",
    "def isValidMP3Folder(name):\n",
    "    #name = name[:2] # DFPlayer\n",
    "    if len(str(name))>2:\n",
    "        print(\"Folder name should be a two digit number, skipped...\")\n",
    "        return False\n",
    "    try:\n",
    "        number = int(name)\n",
    "        return True\n",
    "    except:\n",
    "        print(\"Folder name could not be matched to a two digit number, skipped...\")\n",
    "        return False\n",
    "        \n",
    "def isValidMP3File(name):\n",
    "    if name[-4:] != \".mp3\":\n",
    "        return False\n",
    "    name = name[:3] # if naming with appended song title is used\n",
    "    try:\n",
    "        number = int(name)\n",
    "        return True\n",
    "    except:\n",
    "        return False\n",
    "\n"
   ]
  },
  {
   "cell_type": "code",
   "execution_count": 5,
   "id": "norman-joyce",
   "metadata": {},
   "outputs": [
    {
     "data": {
      "application/vnd.jupyter.widget-view+json": {
       "model_id": "267c550b22454bb18df5022a793f083c",
       "version_major": 2,
       "version_minor": 0
      },
      "text/plain": [
       "Button(description='Chose SD Card Path', style=ButtonStyle())"
      ]
     },
     "metadata": {},
     "output_type": "display_data"
    }
   ],
   "source": [
    "# use ipywidgets to select tge correct path\n",
    "fileselect = Button(description=\"Chose SD Card Path\")\n",
    "fileselect.on_click(select_files)\n",
    "\n",
    "display(fileselect)"
   ]
  },
  {
   "cell_type": "code",
   "execution_count": 13,
   "id": "incorporated-click",
   "metadata": {},
   "outputs": [
    {
     "name": "stdout",
     "output_type": "stream",
     "text": [
      "Folder name should be a two digit number, skipped...\n",
      "F:/01/001.mp3: Adir Hu, Yousician, Adir Hu\n",
      "F:/01/002.mp3: Canon in D, Yousician, Canon in D\n",
      "F:/01/003.mp3: Fast Machine, Yousician, Fast Machine\n",
      "F:/01/004.mp3: Hammer Song, Yousician, Hammer Song\n",
      "F:/01/005.mp3: Humppa Of Finland, Yousician, Humppa Of Finland\n"
     ]
    }
   ],
   "source": [
    "# iterate through the content and display MP3 tag information along the file names\n",
    "for entry in os.scandir(mp3Path):\n",
    "    if entry.is_dir() and isValidMP3Folder(entry.name):\n",
    "        for song in os.scandir(mp3Path+\"/\"+entry.name):\n",
    "            if isValidMP3File(song.name):\n",
    "                audiofile = eyed3.load(mp3Path+\"/\"+entry.name+\"/\"+song.name)\n",
    "                print(mp3Path + \"/\" + entry.name + \"/\" + song.name + \": \" + audiofile.tag.title + \", \" + audiofile.tag.artist + \", \" + audiofile.tag.album) \n"
   ]
  }
 ],
 "metadata": {
  "kernelspec": {
   "display_name": "Python 3",
   "language": "python",
   "name": "python3"
  },
  "language_info": {
   "codemirror_mode": {
    "name": "ipython",
    "version": 3
   },
   "file_extension": ".py",
   "mimetype": "text/x-python",
   "name": "python",
   "nbconvert_exporter": "python",
   "pygments_lexer": "ipython3",
   "version": "3.9.1"
  }
 },
 "nbformat": 4,
 "nbformat_minor": 5
}
